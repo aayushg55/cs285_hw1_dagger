{
 "cells": [
  {
   "cell_type": "code",
   "execution_count": 1,
   "metadata": {},
   "outputs": [
    {
     "name": "stdout",
     "output_type": "stream",
     "text": [
      "[[1.      1.      1.      1.      1.      1.     ]\n",
      " [0.9     0.9     0.9     0.9     0.9     0.9    ]\n",
      " [0.81    0.81    0.81    0.81    0.81    0.81   ]\n",
      " [0.729   0.729   0.729   0.729   0.729   0.729  ]\n",
      " [0.6561  0.6561  0.6561  0.6561  0.6561  0.6561 ]\n",
      " [0.59049 0.59049 0.59049 0.59049 0.59049 0.59049]] [1.      0.9     0.81    0.729   0.6561  0.59049]\n"
     ]
    }
   ],
   "source": [
    "import numpy as np\n",
    "\n",
    "rewards = np.arange(4, 10)\n",
    "\n",
    "T = len(rewards)\n",
    "idx = np.arange(0, T)\n",
    "gamma = 0.9\n",
    "discounts = gamma ** idx\n",
    "disc_matrix = np.outer(discounts, np.ones((T,1)))\n",
    "print(disc_matrix, discounts)"
   ]
  },
  {
   "cell_type": "code",
   "execution_count": 2,
   "metadata": {},
   "outputs": [
    {
     "name": "stdout",
     "output_type": "stream",
     "text": [
      "[[0.59049 0.6561  0.729   0.81    0.9     1.     ]\n",
      " [1.      0.59049 0.6561  0.729   0.81    0.9    ]\n",
      " [0.9     1.      0.59049 0.6561  0.729   0.81   ]\n",
      " [0.81    0.9     1.      0.59049 0.6561  0.729  ]\n",
      " [0.729   0.81    0.9     1.      0.59049 0.6561 ]\n",
      " [0.6561  0.729   0.81    0.9     1.      0.59049]]\n"
     ]
    }
   ],
   "source": [
    "for col in range(1, disc_matrix.shape[1]):\n",
    "    disc_matrix[:, col] = np.roll(disc_matrix[:, col - 1], 1)\n",
    "print(disc_matrix)"
   ]
  },
  {
   "cell_type": "code",
   "execution_count": null,
   "metadata": {},
   "outputs": [],
   "source": []
  }
 ],
 "metadata": {
  "kernelspec": {
   "display_name": "base",
   "language": "python",
   "name": "python3"
  },
  "language_info": {
   "codemirror_mode": {
    "name": "ipython",
    "version": 3
   },
   "file_extension": ".py",
   "mimetype": "text/x-python",
   "name": "python",
   "nbconvert_exporter": "python",
   "pygments_lexer": "ipython3",
   "version": "3.10.9"
  },
  "orig_nbformat": 4
 },
 "nbformat": 4,
 "nbformat_minor": 2
}
